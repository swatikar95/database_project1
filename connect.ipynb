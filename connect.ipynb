{
 "cells": [
  {
   "cell_type": "code",
   "execution_count": 1,
   "metadata": {},
   "outputs": [],
   "source": [
    "import mysql.connector\n",
    "import hashlib"
   ]
  },
  {
   "cell_type": "code",
   "execution_count": 2,
   "metadata": {},
   "outputs": [],
   "source": [
    "# Function to hash strings using SHA-256\n",
    "def hash_string(input_string):\n",
    "    return hashlib.sha256(input_string.encode()).hexdigest()"
   ]
  },
  {
   "cell_type": "code",
   "execution_count": 3,
   "metadata": {},
   "outputs": [],
   "source": [
    "# Connect to your MySQL database\n",
    "conn = mysql.connector.connect(\n",
    "    host=\"localhost\",\n",
    "    user=\"root\",\n",
    "    password=\"amiParbo54#\",\n",
    "    database=\"users\"\n",
    ")\n",
    "cursor = conn.cursor()"
   ]
  },
  {
   "cell_type": "code",
   "execution_count": 11,
   "metadata": {},
   "outputs": [
    {
     "name": "stdout",
     "output_type": "stream",
     "text": [
      "Skipping invalid line: pamelote@yahoo.com;.br\n",
      "Skipping invalid line: anhnhoem@yahoo.com.vn;.Lk\n",
      "Skipping invalid line: armandyosh@yahoo.com;\n",
      "Skipping invalid line: ros_ros550@yahoo.coml;ipo\n",
      "Skipping invalid line: klooda43@yahoo.coml;l\n",
      "Skipping invalid line: cecilebarfsdf@yahoo.com;lk\n",
      "Skipping invalid line: ros_ros550@yahoo.com;lbbpb\n",
      "Skipping invalid line: luisstalivieri@yahoo.com;br\n",
      "Skipping invalid line: jdjdjdj@yahoo.comll;l\n",
      "Skipping invalid line: ros_ros550@yahoo.com;bkfbfob\n",
      "Skipping invalid line: ros_ros550@yahoo.com;vl\n"
     ]
    }
   ],
   "source": [
    "cursor.execute(\"create table users (email_hash VARCHAR(255), password_hash VARCHAR(255))\")\n",
    "\n",
    "with open('credentials1.txt','r') as file:\n",
    "    for line in file:\n",
    "        parts = line.strip().split(\":\", maxsplit=1)  # Split the line into at most 2 parts\n",
    "        if len(parts) == 2:  # Ensure the line has exactly 2 parts\n",
    "            email, password = parts  # Unpack the parts into email and password\n",
    "            email_hash = hash_string(email)\n",
    "            password_hash = hash_string(password)\n",
    "        else:\n",
    "            print(f\"Skipping invalid line: {line.strip()}\")\n",
    "\n",
    "        cursor.execute(\"insert into users (email_hash, password_hash) VALUES (%s, %s)\", (email_hash, password_hash))\n",
    "\n",
    "# Commit changes and close the connection\n",
    "conn.commit()\n",
    "cursor.close()\n",
    "conn.close()"
   ]
  },
  {
   "cell_type": "code",
   "execution_count": 4,
   "metadata": {},
   "outputs": [
    {
     "name": "stdout",
     "output_type": "stream",
     "text": [
      "Skipping invalid line: gigipink@yahoo.com;br\n",
      "Skipping invalid line: Р С—Р’В»РЎвЂ”john.harris948@yahoo.com;PassW999\n",
      "Skipping invalid line: stevenrcantu@yahoo.com;t3tr4m413\n",
      "Skipping invalid line: dannyg_from_tx@yahoo.com;autodg89\n",
      "Skipping invalid line: mizudate@yahoo.com;Devilsaur22\n",
      "Skipping invalid line: euneujin@yahoo.com;gearsofwar321\n",
      "Skipping invalid line: deraadc@yahoo.com;waffen94!\n",
      "Skipping invalid line: knicks77@aol.com;sjr70786\n",
      "Skipping invalid line: ashleydawnharrington@yahoo.com;1734010660201766\n",
      "Skipping invalid line: krmanion@yahoo.com;Jjkk4123\n",
      "Skipping invalid line: asianboy91k@yahoo.com;medaforce12\n",
      "Skipping invalid line: adam.mallard@live.com;Chocobo15\n",
      "Skipping invalid line: starchild17@yahoo.com;f(5j9%z3w\n",
      "Skipping invalid line: johnacook@verizon.net;y0600DBL8of\n",
      "Skipping invalid line: bondbrennam@yahoo.com;Cowboys88\n",
      "Skipping invalid line: wxad@yahoo.com;Pass@123\n",
      "Skipping invalid line: angeliaking33@yahoo.com;Dex34ter!\n",
      "Skipping invalid line: sspierce@verizon.net;HANDYDAN611\n",
      "Skipping invalid line: crosswind231@comcast.net;asdasd99\n",
      "Skipping invalid line: svang19@yahoo.com;plazaboyz89\n",
      "Skipping invalid line: teammagazine1@aol.com;samuel123\n",
      "Skipping invalid line: spoolinsrt@yahoo.com;Dominojp.1\n",
      "Skipping invalid line: superkamehameha@icloud.com;dragonball7*\n",
      "Skipping invalid line: kingofbattle0811@verizon.net;REM700M24\n",
      "Skipping invalid line: awa_palacios@yahoo.com;awellap321\n",
      "Skipping invalid line: paintnmecrazy@yahoo.com;coopdeville1\n",
      "Skipping invalid line: jayar_gas2003@yahoo.com;zxcvbnm26\n",
      "Skipping invalid line: tvisme73@comcast.net;Samipooh1\n",
      "Skipping invalid line: platinam4awile@sbcglobal.net;Frodogorn2!\n",
      "Skipping invalid line: lkbeatassassin@yahoo.com;assassin5150\n",
      "Skipping invalid line: kalifreaky@yahoo.com;cansoftuna8\n",
      "Skipping invalid line: sweetdee_10459@yahoo.com;florana3\n",
      "Skipping invalid line: nicipodskalan607@yahoo.com;rjs91711\n",
      "Skipping invalid line: daviderthal@live.com;dddd1234\n",
      "Skipping invalid line: dgenerationx7879@sbcglobal.net;norman\n",
      "Skipping invalid line: thehollow@yahoo.com;129761\n",
      "Skipping invalid line: snsdorr@sbcglobal.net;boysrulex8896\n",
      "Skipping invalid line: crookedarrowloft@yahoo.com;otterc reek\n",
      "Skipping invalid line: gardner_ln@att.net;whatthe8\n",
      "Skipping invalid line: derekportaluppi@yahoo.com;1291559954196091\n",
      "Skipping invalid line: rachelbporter@outlook.com;kittay88\n",
      "Skipping invalid line: tomboy_gamer@comcast.net;asfjerome45\n",
      "Skipping invalid line: williamcunningham105@yahoo.com;10658031Wc\n",
      "Skipping invalid line: genofranco38@yahoo.com;1711Forever\n",
      "Skipping invalid line: asimpson440@yahoo.com;domon04$\n",
      "Skipping invalid line: delvinrobinson@yahoo.com;lonewolf\n",
      "Skipping invalid line: oogieboogie1317@yahoo.com;Skeletor13\n",
      "Skipping invalid line: erickapartida@yahoo.com;animepoko4me\n",
      "Skipping invalid line: thomasroylikesmac@yahoo.com;thomasroylikesmac123\n",
      "Skipping invalid line: thetreeoflife00@yahoo.com.tw;kanade00\n",
      "Skipping invalid line: tracy24w@yahoo.com;TRA958/0\n",
      "Skipping invalid line: lyzard113@yahoo.com;Chris17\n",
      "Skipping invalid line: epalops3@yahoo.com;racerchooch\n",
      "Skipping invalid line: chanselor1@aol.com;revelation216\n",
      "Skipping invalid line: cliffsguns@charter.net;hun1ter\n",
      "Skipping invalid line: tatalovesjessie@yahoo.com;mother\n",
      "Skipping invalid line: reddragon71176@yahoo.com;jamal71176\n",
      "Skipping invalid line: shannon_b_kavanaugh@yahoo.com;10153776563269076\n",
      "Skipping invalid line: bks1029@yahoo.com;vegeta 1990\n",
      "Skipping invalid line: s_cantu2010@yahoo.com;zayne8245\n",
      "Skipping invalid line: meganryckman18@yahoo.com;Ryckman2015\n",
      "Skipping invalid line: crusingator@aol.com;yellow\n",
      "Skipping invalid line: mewo@live.com.au;madisyn6\n",
      "Skipping invalid line: bluehillpower@yahoo.com;Hatteras45\n",
      "Skipping invalid line: jerrykapolnek@yahoo.com;roobydoo1\n",
      "Skipping invalid line: bobbyapple@charter.net;357puz@#\n",
      "Skipping invalid line: mj_momdad@yahoo.com;rpaul loft\n",
      "Skipping invalid line: maki.so.strange@outlook.com;Coffin Cake\n",
      "Skipping invalid line: mtruj96211@aol.com;TokiTitanEp4\n",
      "Skipping invalid line: jorgekotyk@outlook.com;Cherokee139\n",
      "Skipping invalid line: sky.crevan@yahoo.com;Bunny3269\n"
     ]
    }
   ],
   "source": [
    "with open('credentials2.txt','r') as file:\n",
    "    for line in file:\n",
    "        parts = line.strip().split(\":\", maxsplit=1)  # Split the line into at most 2 parts\n",
    "        if len(parts) == 2:  # Ensure the line has exactly 2 parts\n",
    "            email, password = parts  # Unpack the parts into email and password\n",
    "            email_hash = hash_string(email)\n",
    "            password_hash = hash_string(password)\n",
    "        else:\n",
    "            print(f\"Skipping invalid line: {line.strip()}\")\n",
    "\n",
    "        cursor.execute(\"insert into users (email_hash, password_hash) VALUES (%s, %s)\", (email_hash, password_hash))\n",
    "\n",
    "# Commit changes and close the connection\n",
    "conn.commit()\n",
    "cursor.close()\n",
    "conn.close()"
   ]
  }
 ],
 "metadata": {
  "kernelspec": {
   "display_name": "database_proj1",
   "language": "python",
   "name": "python3"
  },
  "language_info": {
   "codemirror_mode": {
    "name": "ipython",
    "version": 3
   },
   "file_extension": ".py",
   "mimetype": "text/x-python",
   "name": "python",
   "nbconvert_exporter": "python",
   "pygments_lexer": "ipython3",
   "version": "3.9.18"
  }
 },
 "nbformat": 4,
 "nbformat_minor": 2
}
